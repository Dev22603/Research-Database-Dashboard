{
 "cells": [
  {
   "cell_type": "code",
   "execution_count": 1,
   "metadata": {},
   "outputs": [],
   "source": [
    "import pandas as pd\n",
    "import os\n",
    "from sqlalchemy import create_engine, text\n",
    "from sqlalchemy.exc import OperationalError\n",
    "from dotenv import load_dotenv\n",
    "import psycopg2\n",
    "folder_path = 'excel_data'\n",
    "# folder_path = 'excel files'\n"
   ]
  },
  {
   "cell_type": "code",
   "execution_count": 26,
   "metadata": {},
   "outputs": [
    {
     "name": "stdout",
     "output_type": "stream",
     "text": [
      "dict_keys(['30 March 2024'])\n"
     ]
    }
   ],
   "source": [
    "dataframes_dict = {}\n",
    "\n",
    "for filename in os.listdir(folder_path):\n",
    "    if filename.endswith('.xlsx') or filename.endswith('.xls'):\n",
    "        file_path = os.path.join(folder_path, filename)    \n",
    "        df = pd.read_excel(file_path,None,header=7) \n",
    "        dataframes_dict[filename] = df\n",
    "        print(dataframes_dict[filename].keys()) \n",
    "        \n"
   ]
  },
  {
   "cell_type": "code",
   "execution_count": 27,
   "metadata": {},
   "outputs": [],
   "source": [
    "# dataframes_dict['Book_Chapter_Publication.xlsx']['2022-23']\n",
    "# dataframes_dict['Book_Chapter_Publication.xlsx']['2023-24']\n",
    "# dataframes_dict['Conference_Publication.xlsx']['2022-23']\n",
    "# dataframes_dict['Conference_Publication.xlsx']['2023-24']\n",
    "# dataframes_dict['Journal_Papers.xlsx']['2022-23']\n",
    "# dataframes_dict['Journal_Papers.xlsx']['Summary of 2022-23']"
   ]
  },
  {
   "cell_type": "code",
   "execution_count": 28,
   "metadata": {},
   "outputs": [
    {
     "name": "stdout",
     "output_type": "stream",
     "text": [
      "File:  30 March 2024.xlsx\n",
      "\tSheet:  30 March 2024\n"
     ]
    }
   ],
   "source": [
    "for key, value in dataframes_dict.items():\n",
    "    print(\"File: \",key)\n",
    "    for k,v in value.items():\n",
    "        print(\"\\tSheet: \",k)\n",
    "        "
   ]
  },
  {
   "cell_type": "code",
   "execution_count": 29,
   "metadata": {},
   "outputs": [
    {
     "ename": "KeyError",
     "evalue": "'Journal_Papers.xlsx'",
     "output_type": "error",
     "traceback": [
      "\u001b[1;31m---------------------------------------------------------------------------\u001b[0m",
      "\u001b[1;31mKeyError\u001b[0m                                  Traceback (most recent call last)",
      "Cell \u001b[1;32mIn[29], line 1\u001b[0m\n\u001b[1;32m----> 1\u001b[0m \u001b[38;5;28;01mdel\u001b[39;00m \u001b[43mdataframes_dict\u001b[49m\u001b[43m[\u001b[49m\u001b[38;5;124;43m'\u001b[39;49m\u001b[38;5;124;43mJournal_Papers.xlsx\u001b[39;49m\u001b[38;5;124;43m'\u001b[39;49m\u001b[43m]\u001b[49m[\u001b[38;5;124m'\u001b[39m\u001b[38;5;124mSummary of 2022-23\u001b[39m\u001b[38;5;124m'\u001b[39m]\n",
      "\u001b[1;31mKeyError\u001b[0m: 'Journal_Papers.xlsx'"
     ]
    }
   ],
   "source": [
    "del dataframes_dict['Journal_Papers.xlsx']['Summary of 2022-23']"
   ]
  },
  {
   "cell_type": "code",
   "execution_count": 30,
   "metadata": {},
   "outputs": [
    {
     "ename": "KeyError",
     "evalue": "'Book_Chapter_Publication.xlsx'",
     "output_type": "error",
     "traceback": [
      "\u001b[1;31m---------------------------------------------------------------------------\u001b[0m",
      "\u001b[1;31mKeyError\u001b[0m                                  Traceback (most recent call last)",
      "Cell \u001b[1;32mIn[30], line 1\u001b[0m\n\u001b[1;32m----> 1\u001b[0m \u001b[43mdataframes_dict\u001b[49m\u001b[43m[\u001b[49m\u001b[38;5;124;43m'\u001b[39;49m\u001b[38;5;124;43mBook_Chapter_Publication.xlsx\u001b[39;49m\u001b[38;5;124;43m'\u001b[39;49m\u001b[43m]\u001b[49m[\u001b[38;5;124m'\u001b[39m\u001b[38;5;124m2023-24\u001b[39m\u001b[38;5;124m'\u001b[39m]\u001b[38;5;241m.\u001b[39mdrop(\u001b[38;5;124m'\u001b[39m\u001b[38;5;124mDownload File\u001b[39m\u001b[38;5;124m'\u001b[39m, axis\u001b[38;5;241m=\u001b[39m\u001b[38;5;241m1\u001b[39m,inplace\u001b[38;5;241m=\u001b[39m\u001b[38;5;28;01mTrue\u001b[39;00m)\n\u001b[0;32m      2\u001b[0m dataframes_dict[\u001b[38;5;124m'\u001b[39m\u001b[38;5;124mBook_Chapter_Publication.xlsx\u001b[39m\u001b[38;5;124m'\u001b[39m][\u001b[38;5;124m'\u001b[39m\u001b[38;5;124m2022-23\u001b[39m\u001b[38;5;124m'\u001b[39m]\u001b[38;5;241m.\u001b[39mdrop(\u001b[38;5;124m'\u001b[39m\u001b[38;5;124mDownload File\u001b[39m\u001b[38;5;124m'\u001b[39m, axis\u001b[38;5;241m=\u001b[39m\u001b[38;5;241m1\u001b[39m,inplace\u001b[38;5;241m=\u001b[39m\u001b[38;5;28;01mTrue\u001b[39;00m)\n",
      "\u001b[1;31mKeyError\u001b[0m: 'Book_Chapter_Publication.xlsx'"
     ]
    }
   ],
   "source": [
    "dataframes_dict['Book_Chapter_Publication.xlsx']['2023-24'].drop('Download File', axis=1,inplace=True)\n",
    "dataframes_dict['Book_Chapter_Publication.xlsx']['2022-23'].drop('Download File', axis=1,inplace=True)"
   ]
  },
  {
   "cell_type": "code",
   "execution_count": 31,
   "metadata": {},
   "outputs": [
    {
     "ename": "KeyError",
     "evalue": "'Book_Chapter_Publication.xlsx'",
     "output_type": "error",
     "traceback": [
      "\u001b[1;31m---------------------------------------------------------------------------\u001b[0m",
      "\u001b[1;31mKeyError\u001b[0m                                  Traceback (most recent call last)",
      "Cell \u001b[1;32mIn[31], line 1\u001b[0m\n\u001b[1;32m----> 1\u001b[0m \u001b[43mdataframes_dict\u001b[49m\u001b[43m[\u001b[49m\u001b[38;5;124;43m'\u001b[39;49m\u001b[38;5;124;43mBook_Chapter_Publication.xlsx\u001b[39;49m\u001b[38;5;124;43m'\u001b[39;49m\u001b[43m]\u001b[49m[\u001b[38;5;124m'\u001b[39m\u001b[38;5;124m2023-24\u001b[39m\u001b[38;5;124m'\u001b[39m]\u001b[38;5;241m.\u001b[39mcolumns\n",
      "\u001b[1;31mKeyError\u001b[0m: 'Book_Chapter_Publication.xlsx'"
     ]
    }
   ],
   "source": [
    "dataframes_dict['Book_Chapter_Publication.xlsx']['2023-24'].columns"
   ]
  },
  {
   "cell_type": "code",
   "execution_count": 32,
   "metadata": {},
   "outputs": [
    {
     "data": {
      "text/plain": [
       "['30 March 2024.xlsx']"
      ]
     },
     "execution_count": 32,
     "metadata": {},
     "output_type": "execute_result"
    }
   ],
   "source": [
    "excel_files=list(dataframes_dict.keys())\n",
    "# Gives list of all the excel files\n",
    "excel_files"
   ]
  },
  {
   "cell_type": "code",
   "execution_count": 33,
   "metadata": {},
   "outputs": [],
   "source": [
    "def split_authors(df, column_name, max_authors=10):\n",
    "    if column_name in df.columns:\n",
    "        df.loc[:,column_name] = df[column_name].str.strip().str.replace(r',+', ',', regex=True).str.rstrip(',')\n",
    "    else:\n",
    "        return df\n",
    "\n",
    "    # Split the 'author' column into lists of authors\n",
    "    authors_split = df[column_name].str.split(',', expand=True)\n",
    "    print(authors_split.shape[0])\n",
    "    print(authors_split.shape[1])\n",
    "    # Rename columns to 'author_1', 'author_2', ..., 'author_10'\n",
    "    authors_split.columns = [f'{column_name}{i+1}' for i in range(authors_split.shape[1])]\n",
    "    \n",
    "    # If there are less columns than max_authors, add additional columns with None\n",
    "    for i in range(authors_split.shape[1], max_authors):\n",
    "        authors_split[f'{column_name}{i+1}'] = None\n",
    "    \n",
    "    # # Trim to max_authors columns\n",
    "    # authors_split = authors_split.iloc[:, :max_authors] # if more than 10 authors are there than it will remove the extra authors\n",
    "    \n",
    "    # Drop the original 'author' column and concatenate the new columns\n",
    "    df = df.drop(columns=[column_name])\n",
    "    df = pd.concat([df, authors_split], axis=1)\n",
    "    \n",
    "    return df\n",
    "# df = split_authors(dataframes_dict['Book_Chapter_Publication.xlsx']['2022-23'], 'Author', max_authors=10)\n"
   ]
  },
  {
   "cell_type": "code",
   "execution_count": 34,
   "metadata": {},
   "outputs": [],
   "source": [
    "for filename, value in dataframes_dict.items():\n",
    "    # print(\"File: \",filename)\n",
    "    sheets=list(value.keys())\n",
    "    cols=list(value[sheets[0]].columns)\n",
    "    # print(cols)\n",
    "    for k,v in value.items():\n",
    "        # print(v.columns)\n",
    "        if list(v.columns)!=cols:\n",
    "            print(\"Error: Different columns in sheet\",k)"
   ]
  },
  {
   "cell_type": "code",
   "execution_count": 35,
   "metadata": {},
   "outputs": [
    {
     "data": {
      "text/plain": [
       "['Download File',\n",
       " 'id',\n",
       " 'Paper Title',\n",
       " 'FileName',\n",
       " 'Name of Journal',\n",
       " 'JournalType',\n",
       " 'Impact Factor (Clarivate Analytics)',\n",
       " 'Impact Factor (Journal)',\n",
       " 'Year of Publication',\n",
       " 'Month of Publication',\n",
       " 'IndexIn',\n",
       " 'ISSN No',\n",
       " 'Voume No',\n",
       " 'Issue No',\n",
       " 'Page No',\n",
       " 'Author1',\n",
       " 'Author2',\n",
       " 'Author3',\n",
       " 'Author4',\n",
       " 'Author5',\n",
       " 'Author6',\n",
       " 'Author7',\n",
       " 'Author8',\n",
       " 'Author9',\n",
       " 'Author10',\n",
       " 'WebsiteJournalLink',\n",
       " 'ArticleLink',\n",
       " 'Institute Name',\n",
       " 'Department Name']"
      ]
     },
     "execution_count": 35,
     "metadata": {},
     "output_type": "execute_result"
    }
   ],
   "source": [
    "list(value[sheets[0]].columns)"
   ]
  },
  {
   "cell_type": "code",
   "execution_count": 36,
   "metadata": {},
   "outputs": [],
   "source": [
    "Tables={}\n",
    "for filename, value in dataframes_dict.items():\n",
    "    # print(\"File: \",filename)\n",
    "    sheets=list(value.keys())\n",
    "    cols=list(value[sheets[0]].columns)\n",
    "    # print(cols)\n",
    "    Dataframe=value[sheets[0]].drop('id',axis=1)\n",
    "    for i in range(1,len(sheets)):\n",
    "        Dataframe=pd.concat([Dataframe,value[sheets[i]].drop('id',axis=1)],ignore_index=True).drop_duplicates()\n",
    "    Tables[filename]=Dataframe\n",
    "        \n",
    "        "
   ]
  },
  {
   "cell_type": "code",
   "execution_count": 23,
   "metadata": {},
   "outputs": [
    {
     "ename": "KeyError",
     "evalue": "'Journal_Papers.xlsx'",
     "output_type": "error",
     "traceback": [
      "\u001b[1;31m---------------------------------------------------------------------------\u001b[0m",
      "\u001b[1;31mKeyError\u001b[0m                                  Traceback (most recent call last)",
      "Cell \u001b[1;32mIn[23], line 1\u001b[0m\n\u001b[1;32m----> 1\u001b[0m \u001b[43mTables\u001b[49m\u001b[43m[\u001b[49m\u001b[38;5;124;43m'\u001b[39;49m\u001b[38;5;124;43mJournal_Papers.xlsx\u001b[39;49m\u001b[38;5;124;43m'\u001b[39;49m\u001b[43m]\u001b[49m[\u001b[38;5;124m'\u001b[39m\u001b[38;5;124mUnnamed: 24\u001b[39m\u001b[38;5;124m'\u001b[39m]\u001b[38;5;241m.\u001b[39munique()\n",
      "\u001b[1;31mKeyError\u001b[0m: 'Journal_Papers.xlsx'"
     ]
    }
   ],
   "source": [
    "Tables['Journal_Papers.xlsx']['Unnamed: 24'].unique()"
   ]
  },
  {
   "cell_type": "code",
   "execution_count": 37,
   "metadata": {},
   "outputs": [
    {
     "ename": "AttributeError",
     "evalue": "'dict' object has no attribute 'head'",
     "output_type": "error",
     "traceback": [
      "\u001b[1;31m---------------------------------------------------------------------------\u001b[0m",
      "\u001b[1;31mAttributeError\u001b[0m                            Traceback (most recent call last)",
      "Cell \u001b[1;32mIn[37], line 1\u001b[0m\n\u001b[1;32m----> 1\u001b[0m \u001b[43mdf\u001b[49m\u001b[38;5;241;43m.\u001b[39;49m\u001b[43mhead\u001b[49m()\n",
      "\u001b[1;31mAttributeError\u001b[0m: 'dict' object has no attribute 'head'"
     ]
    }
   ],
   "source": [
    "df.head()"
   ]
  },
  {
   "cell_type": "code",
   "execution_count": 38,
   "metadata": {},
   "outputs": [
    {
     "data": {
      "text/plain": [
       "True"
      ]
     },
     "execution_count": 38,
     "metadata": {},
     "output_type": "execute_result"
    }
   ],
   "source": [
    "load_dotenv()\n"
   ]
  },
  {
   "cell_type": "code",
   "execution_count": 39,
   "metadata": {},
   "outputs": [],
   "source": [
    "# Function to create a PostgreSQL database and insert data into tables\n",
    "def create_db_and_insert_data(db_name, sheet_data):\n",
    "    # Create a connection to PostgreSQL\n",
    "    engine = create_engine(f'postgresql://{os.getenv('DB_USER')}:{os.getenv('DB_PASSWORD')}@{os.getenv('DB_HOST')}:{os.getenv('DB_PORT')}/{os.getenv('DB_NAME')}')\n",
    "    for sheet_name, df in sheet_data.items():\n",
    "        print(sheet_name)\n",
    "        df.to_sql(sheet_name, engine, if_exists='replace', index=False)"
   ]
  },
  {
   "cell_type": "code",
   "execution_count": 40,
   "metadata": {},
   "outputs": [
    {
     "name": "stdout",
     "output_type": "stream",
     "text": [
      "30 March 2024.xlsx\n"
     ]
    }
   ],
   "source": [
    "for i in excel_files:\n",
    "    for df in dataframes_dict[i]:\n",
    "        print(i)\n",
    "        dataframes_dict[i][df]=split_authors(dataframes_dict[i][df], 'Author', max_authors=10)"
   ]
  },
  {
   "cell_type": "code",
   "execution_count": 41,
   "metadata": {},
   "outputs": [
    {
     "name": "stdout",
     "output_type": "stream",
     "text": [
      "30 March 2024\n"
     ]
    }
   ],
   "source": [
    "for i in excel_files:\n",
    "    create_db_and_insert_data(i[0:-5].lower(),dataframes_dict[i])"
   ]
  },
  {
   "cell_type": "code",
   "execution_count": null,
   "metadata": {},
   "outputs": [],
   "source": [
    "# SELECT 'CREATE DATABASE exp_db' \n",
    "# WHERE NOT EXISTS (SELECT FROM pg_database WHERE datname = 'exp_db')"
   ]
  },
  {
   "cell_type": "code",
   "execution_count": null,
   "metadata": {},
   "outputs": [],
   "source": []
  }
 ],
 "metadata": {
  "kernelspec": {
   "display_name": "base",
   "language": "python",
   "name": "python3"
  },
  "language_info": {
   "codemirror_mode": {
    "name": "ipython",
    "version": 3
   },
   "file_extension": ".py",
   "mimetype": "text/x-python",
   "name": "python",
   "nbconvert_exporter": "python",
   "pygments_lexer": "ipython3",
   "version": "3.12.2"
  }
 },
 "nbformat": 4,
 "nbformat_minor": 2
}
